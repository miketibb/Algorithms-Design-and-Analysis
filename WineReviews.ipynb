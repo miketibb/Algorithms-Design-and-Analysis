{
  "nbformat": 4,
  "nbformat_minor": 0,
  "metadata": {
    "colab": {
      "name": "WineReviews.ipynb",
      "provenance": [],
      "collapsed_sections": [],
      "toc_visible": true,
      "mount_file_id": "1YN-lopofEzfQpA8TUJAPlE1YLcSbUWwA",
      "authorship_tag": "ABX9TyM0AJ80aQ2Q8LAM26Cu0AHl",
      "include_colab_link": true
    },
    "kernelspec": {
      "name": "python3",
      "display_name": "Python 3"
    }
  },
  "cells": [
    {
      "cell_type": "markdown",
      "metadata": {
        "id": "view-in-github",
        "colab_type": "text"
      },
      "source": [
        "<a href=\"https://colab.research.google.com/github/miketibb/Algorithms-Design-and-Analysis/blob/master/WineReviews.ipynb\" target=\"_parent\"><img src=\"https://colab.research.google.com/assets/colab-badge.svg\" alt=\"Open In Colab\"/></a>"
      ]
    },
    {
      "cell_type": "code",
      "metadata": {
        "id": "9d-Y_dWRsIaf"
      },
      "source": [
        "import pandas as pd\n",
        "df130 = pd.read_csv('/content/drive/My Drive/Classes-Research/Kaggle/Wine Reviews/winemag-data-130k-v2.csv')\n",
        "df150 = pd.read_csv('/content/drive/My Drive/Classes-Research/Kaggle/Wine Reviews/winemag-data_first150k.csv')"
      ],
      "execution_count": 6,
      "outputs": []
    },
    {
      "cell_type": "code",
      "metadata": {
        "id": "HjBRNHTCuuWb"
      },
      "source": [
        "df = pd.concat([df130[list(df150.columns)], df150])"
      ],
      "execution_count": 22,
      "outputs": []
    },
    {
      "cell_type": "code",
      "metadata": {
        "id": "CkSyq0FLwU5V",
        "outputId": "0d968f1d-1762-448f-802e-8e5f3c607d73",
        "colab": {
          "base_uri": "https://localhost:8080/",
          "height": 255
        }
      },
      "source": [
        ""
      ],
      "execution_count": 18,
      "outputs": [
        {
          "output_type": "execute_result",
          "data": {
            "text/plain": [
              "['Unnamed: 0',\n",
              " 'country',\n",
              " 'description',\n",
              " 'designation',\n",
              " 'points',\n",
              " 'price',\n",
              " 'province',\n",
              " 'region_1',\n",
              " 'region_2',\n",
              " 'taster_name',\n",
              " 'taster_twitter_handle',\n",
              " 'title',\n",
              " 'variety',\n",
              " 'winery']"
            ]
          },
          "metadata": {
            "tags": []
          },
          "execution_count": 18
        }
      ]
    },
    {
      "cell_type": "code",
      "metadata": {
        "id": "4OyOsepPzxxW",
        "outputId": "500e700f-22a4-4734-c043-768a0c323ee6",
        "colab": {
          "base_uri": "https://localhost:8080/",
          "height": 204
        }
      },
      "source": [
        ""
      ],
      "execution_count": 19,
      "outputs": [
        {
          "output_type": "execute_result",
          "data": {
            "text/plain": [
              "['Unnamed: 0',\n",
              " 'country',\n",
              " 'description',\n",
              " 'designation',\n",
              " 'points',\n",
              " 'price',\n",
              " 'province',\n",
              " 'region_1',\n",
              " 'region_2',\n",
              " 'variety',\n",
              " 'winery']"
            ]
          },
          "metadata": {
            "tags": []
          },
          "execution_count": 19
        }
      ]
    },
    {
      "cell_type": "code",
      "metadata": {
        "id": "MCvgZoWBz8Ln"
      },
      "source": [
        ""
      ],
      "execution_count": null,
      "outputs": []
    }
  ]
}