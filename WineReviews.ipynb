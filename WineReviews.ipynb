{
  "nbformat": 4,
  "nbformat_minor": 0,
  "metadata": {
    "colab": {
      "name": "WineReviews.ipynb",
      "provenance": [],
      "collapsed_sections": [],
      "mount_file_id": "1YN-lopofEzfQpA8TUJAPlE1YLcSbUWwA",
      "authorship_tag": "ABX9TyPD/MSzOwO6BclITXn01xww",
      "include_colab_link": true
    },
    "kernelspec": {
      "name": "python3",
      "display_name": "Python 3"
    }
  },
  "cells": [
    {
      "cell_type": "markdown",
      "metadata": {
        "id": "view-in-github",
        "colab_type": "text"
      },
      "source": [
        "<a href=\"https://colab.research.google.com/github/miketibb/Algorithms-Design-and-Analysis/blob/master/WineReviews.ipynb\" target=\"_parent\"><img src=\"https://colab.research.google.com/assets/colab-badge.svg\" alt=\"Open In Colab\"/></a>"
      ]
    },
    {
      "cell_type": "code",
      "metadata": {
        "id": "9d-Y_dWRsIaf"
      },
      "source": [
        "import pandas as pd\n",
        "df130 = pd.read_csv('/content/drive/My Drive/Classes-Research/Kaggle/Wine Reviews/winemag-data-130k-v2.csv')\n",
        "df150 = pd.read_csv('/content/drive/My Drive/Classes-Research/Kaggle/Wine Reviews/winemag-data_first150k.csv')"
      ],
      "execution_count": 6,
      "outputs": []
    },
    {
      "cell_type": "code",
      "metadata": {
        "id": "HjBRNHTCuuWb"
      },
      "source": [
        "df = pd.concat([df130[list(df150.columns)], df150])\n",
        "X, y = df[['country', 'description', 'designation', 'price', 'province',\n",
        "           'region_1', 'region_2', 'variety', 'winery']], df['points']"
      ],
      "execution_count": 24,
      "outputs": []
    },
    {
      "cell_type": "code",
      "metadata": {
        "id": "CkSyq0FLwU5V"
      },
      "source": [
        "from sklearn.model_selection import train_test_split\n",
        "X_train, X_test, y_train, y_test = train_test_split(X, y, test_size=0.33)"
      ],
      "execution_count": 26,
      "outputs": []
    },
    {
      "cell_type": "code",
      "metadata": {
        "id": "4OyOsepPzxxW",
        "outputId": "16284764-3c1c-40ad-da43-89019c88803e",
        "colab": {
          "base_uri": "https://localhost:8080/",
          "height": 187
        }
      },
      "source": [
        ""
      ],
      "execution_count": 31,
      "outputs": [
        {
          "output_type": "execute_result",
          "data": {
            "text/plain": [
              "country           21\n",
              "description        0\n",
              "designation    27621\n",
              "price           7522\n",
              "province          21\n",
              "region_1       15451\n",
              "region_2       55921\n",
              "variety            0\n",
              "winery             0\n",
              "dtype: int64"
            ]
          },
          "metadata": {
            "tags": []
          },
          "execution_count": 31
        }
      ]
    },
    {
      "cell_type": "code",
      "metadata": {
        "id": "MCvgZoWBz8Ln"
      },
      "source": [
        ""
      ],
      "execution_count": null,
      "outputs": []
    }
  ]
}